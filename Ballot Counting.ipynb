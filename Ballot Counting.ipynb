{
 "metadata": {
  "name": "",
  "signature": "sha256:52ede983eed18d4e1e255200495a9c887ec00c10ae35f43978099a0972430c9a"
 },
 "nbformat": 3,
 "nbformat_minor": 0,
 "worksheets": [
  {
   "cells": [
    {
     "cell_type": "code",
     "collapsed": false,
     "input": [
      "import pandas as pd"
     ],
     "language": "python",
     "metadata": {},
     "outputs": [],
     "prompt_number": 2
    },
    {
     "cell_type": "code",
     "collapsed": false,
     "input": [
      "ballots = pd.read_csv('Tang Elections Ballots Results 2014.csv', index_col='Entries ID')\n",
      "ballots[['Sports Chair 1', 'Sports Chair 2', 'Social Chair 1', 'Social Chair 2', 'Publicity Chair']].head()"
     ],
     "language": "python",
     "metadata": {},
     "outputs": [
      {
       "html": [
        "<div style=\"max-height:1000px;max-width:1500px;overflow:auto;\">\n",
        "<table border=\"1\" class=\"dataframe\">\n",
        "  <thead>\n",
        "    <tr style=\"text-align: right;\">\n",
        "      <th></th>\n",
        "      <th>Sports Chair 1</th>\n",
        "      <th>Sports Chair 2</th>\n",
        "      <th>Social Chair 1</th>\n",
        "      <th>Social Chair 2</th>\n",
        "      <th>Publicity Chair</th>\n",
        "    </tr>\n",
        "    <tr>\n",
        "      <th>Entries ID</th>\n",
        "      <th></th>\n",
        "      <th></th>\n",
        "      <th></th>\n",
        "      <th></th>\n",
        "      <th></th>\n",
        "    </tr>\n",
        "  </thead>\n",
        "  <tbody>\n",
        "    <tr>\n",
        "      <th>245</th>\n",
        "      <td>    Rajesh Sridhar</td>\n",
        "      <td> Devendra Shelar</td>\n",
        "      <td> Parnika Agrawal</td>\n",
        "      <td>  Andrew Rzeznik</td>\n",
        "      <td> Ranjitha Shivaram</td>\n",
        "    </tr>\n",
        "    <tr>\n",
        "      <th>248</th>\n",
        "      <td>         Jenny Liu</td>\n",
        "      <td> Devendra Shelar</td>\n",
        "      <td> Parnika Agrawal</td>\n",
        "      <td> Devendra Shelar</td>\n",
        "      <td> Ranjitha Shivaram</td>\n",
        "    </tr>\n",
        "    <tr>\n",
        "      <th>249</th>\n",
        "      <td>         Jenny Liu</td>\n",
        "      <td> Devendra Shelar</td>\n",
        "      <td> Parnika Agrawal</td>\n",
        "      <td>    Himani Gupta</td>\n",
        "      <td> Ranjitha Shivaram</td>\n",
        "    </tr>\n",
        "    <tr>\n",
        "      <th>250</th>\n",
        "      <td> Emir Salih Magden</td>\n",
        "      <td>  Rajesh Sridhar</td>\n",
        "      <td> Parnika Agrawal</td>\n",
        "      <td>    Himani Gupta</td>\n",
        "      <td> Ranjitha Shivaram</td>\n",
        "    </tr>\n",
        "    <tr>\n",
        "      <th>251</th>\n",
        "      <td>    Rajesh Sridhar</td>\n",
        "      <td>       Jenny Liu</td>\n",
        "      <td>    Himani Gupta</td>\n",
        "      <td> Parnika Agrawal</td>\n",
        "      <td> Ranjitha Shivaram</td>\n",
        "    </tr>\n",
        "  </tbody>\n",
        "</table>\n",
        "<p>5 rows \u00d7 5 columns</p>\n",
        "</div>"
       ],
       "metadata": {},
       "output_type": "pyout",
       "prompt_number": 3,
       "text": [
        "               Sports Chair 1   Sports Chair 2   Social Chair 1  \\\n",
        "Entries ID                                                        \n",
        "245            Rajesh Sridhar  Devendra Shelar  Parnika Agrawal   \n",
        "248                 Jenny Liu  Devendra Shelar  Parnika Agrawal   \n",
        "249                 Jenny Liu  Devendra Shelar  Parnika Agrawal   \n",
        "250         Emir Salih Magden   Rajesh Sridhar  Parnika Agrawal   \n",
        "251            Rajesh Sridhar        Jenny Liu     Himani Gupta   \n",
        "\n",
        "             Social Chair 2    Publicity Chair  \n",
        "Entries ID                                      \n",
        "245          Andrew Rzeznik  Ranjitha Shivaram  \n",
        "248         Devendra Shelar  Ranjitha Shivaram  \n",
        "249            Himani Gupta  Ranjitha Shivaram  \n",
        "250            Himani Gupta  Ranjitha Shivaram  \n",
        "251         Parnika Agrawal  Ranjitha Shivaram  \n",
        "\n",
        "[5 rows x 5 columns]"
       ]
      }
     ],
     "prompt_number": 3
    },
    {
     "cell_type": "code",
     "collapsed": false,
     "input": [
      "residents = pd.read_csv('2014-02-spring.csv')\n",
      "residents[['Full Name', 'Student Email']].head()"
     ],
     "language": "python",
     "metadata": {},
     "outputs": [
      {
       "html": [
        "<div style=\"max-height:1000px;max-width:1500px;overflow:auto;\">\n",
        "<table border=\"1\" class=\"dataframe\">\n",
        "  <thead>\n",
        "    <tr style=\"text-align: right;\">\n",
        "      <th></th>\n",
        "      <th>Full Name</th>\n",
        "      <th>Student Email</th>\n",
        "    </tr>\n",
        "  </thead>\n",
        "  <tbody>\n",
        "    <tr>\n",
        "      <th>0</th>\n",
        "      <td>          Disi A.</td>\n",
        "      <td>    adis@mit.edu</td>\n",
        "    </tr>\n",
        "    <tr>\n",
        "      <th>1</th>\n",
        "      <td> Mariam AbdelAzim</td>\n",
        "      <td>   mazim@mit.edu</td>\n",
        "    </tr>\n",
        "    <tr>\n",
        "      <th>2</th>\n",
        "      <td>        Amy Adams</td>\n",
        "      <td>  aadams@mit.edu</td>\n",
        "    </tr>\n",
        "    <tr>\n",
        "      <th>3</th>\n",
        "      <td>  Parnika Agrawal</td>\n",
        "      <td> parnika@mit.edu</td>\n",
        "    </tr>\n",
        "    <tr>\n",
        "      <th>4</th>\n",
        "      <td>       Ashok Ajoy</td>\n",
        "      <td> ashokaj@mit.edu</td>\n",
        "    </tr>\n",
        "  </tbody>\n",
        "</table>\n",
        "<p>5 rows \u00d7 2 columns</p>\n",
        "</div>"
       ],
       "metadata": {},
       "output_type": "pyout",
       "prompt_number": 5,
       "text": [
        "          Full Name    Student Email\n",
        "0           Disi A.     adis@mit.edu\n",
        "1  Mariam AbdelAzim    mazim@mit.edu\n",
        "2         Amy Adams   aadams@mit.edu\n",
        "3   Parnika Agrawal  parnika@mit.edu\n",
        "4        Ashok Ajoy  ashokaj@mit.edu\n",
        "\n",
        "[5 rows x 2 columns]"
       ]
      }
     ],
     "prompt_number": 5
    },
    {
     "cell_type": "code",
     "collapsed": false,
     "input": [
      "# In this cell, check which students emails that are present in the ballot form are not present in the residents dataframe.\n",
      "set(ballots['MIT Email']).difference(set(residents['Student Email']))"
     ],
     "language": "python",
     "metadata": {},
     "outputs": [
      {
       "metadata": {},
       "output_type": "pyout",
       "prompt_number": 6,
       "text": [
        "{'StephLam@mit.eu',\n",
        " 'aadams@mmit.edu',\n",
        " 'abely@mit.edu',\n",
        " 'andreafc@mit.edu',\n",
        " 'bqf2008@gmail.com',\n",
        " 'devendrashelar7@gmail.com',\n",
        " 'matbla@mit.edu',\n",
        " 'meinzing@mit.edu',\n",
        " 'nikhilcd@mit.edu',\n",
        " 'p_ducru@mit.edu'}"
       ]
      }
     ],
     "prompt_number": 6
    },
    {
     "cell_type": "raw",
     "metadata": {},
     "source": [
      "{'StephLam@mit.eu',           --> correct, I know this person, is Stephanie Lam in 20B\n",
      " 'aadams@mmit.edu',           --> Adams, Amy Lynn, found by MIT Person Search.\n",
      " 'abely@mit.edu',             --> Bely, Aliaksandr, found by MIT Person Search.\n",
      " 'andreafc@mit.edu',          --> Fronzetti Colladon, Andrea, found by MIT Person Search.\n",
      " 'bqf2008@gmail.com',         --> correct, I know this person, is Qifang Bao from THRA.\n",
      " 'devendrashelar7@gmail.com', --> correct, is one of the applicants by recognizing email name.\n",
      " 'matbla@mit.edu',            --> Blanchard, Matthieu, found by MIT Person Search\n",
      " 'meinzing@mit.edu',          --> Einzinger, Markus, found by MIT Person Search\n",
      " 'nikhilcd@mit.edu',          --> correct, I know this person, is my roommate.\n",
      " 'p_ducru@mit.edu'}           --> Ducru, Pablo Philippe, found by MIT Person Search."
     ]
    },
    {
     "cell_type": "raw",
     "metadata": {},
     "source": [
      "The rest of the ballots need not be verified, as the Set test has already covered this."
     ]
    },
    {
     "cell_type": "code",
     "collapsed": false,
     "input": [
      "sports1 = ballots.groupby('Sports Chair 1')['Sports Chair 1'].agg('count')\n",
      "sports1"
     ],
     "language": "python",
     "metadata": {},
     "outputs": [
      {
       "metadata": {},
       "output_type": "pyout",
       "prompt_number": 7,
       "text": [
        "Sports Chair 1\n",
        "Agustina Gonzalez Cid     2\n",
        "Astera Tang               1\n",
        "Cong Su                  15\n",
        "Devendra Shelar           7\n",
        "Emir Salih Magden         9\n",
        "Jenny Liu                16\n",
        "Rajesh Sridhar           49\n",
        "dtype: int64"
       ]
      }
     ],
     "prompt_number": 7
    },
    {
     "cell_type": "code",
     "collapsed": false,
     "input": [
      "sports2 = ballots.groupby('Sports Chair 2')['Sports Chair 2'].agg('count')\n",
      "sports2"
     ],
     "language": "python",
     "metadata": {},
     "outputs": [
      {
       "metadata": {},
       "output_type": "pyout",
       "prompt_number": 8,
       "text": [
        "Sports Chair 2\n",
        "Agustina Gonzalez Cid     9\n",
        "Astera Tang               4\n",
        "Cong Su                  12\n",
        "Devendra Shelar          24\n",
        "Emir Salih Magden        13\n",
        "Jenny Liu                20\n",
        "Rajesh Sridhar           11\n",
        "dtype: int64"
       ]
      }
     ],
     "prompt_number": 8
    },
    {
     "cell_type": "code",
     "collapsed": false,
     "input": [
      "sports = pd.DataFrame(sports1+sports2)\n",
      "sports.sort(0, ascending=False)"
     ],
     "language": "python",
     "metadata": {},
     "outputs": [
      {
       "html": [
        "<div style=\"max-height:1000px;max-width:1500px;overflow:auto;\">\n",
        "<table border=\"1\" class=\"dataframe\">\n",
        "  <thead>\n",
        "    <tr style=\"text-align: right;\">\n",
        "      <th></th>\n",
        "      <th>0</th>\n",
        "    </tr>\n",
        "    <tr>\n",
        "      <th>Sports Chair 1</th>\n",
        "      <th></th>\n",
        "    </tr>\n",
        "  </thead>\n",
        "  <tbody>\n",
        "    <tr>\n",
        "      <th>Rajesh Sridhar</th>\n",
        "      <td> 60</td>\n",
        "    </tr>\n",
        "    <tr>\n",
        "      <th>Jenny Liu</th>\n",
        "      <td> 36</td>\n",
        "    </tr>\n",
        "    <tr>\n",
        "      <th>Devendra Shelar</th>\n",
        "      <td> 31</td>\n",
        "    </tr>\n",
        "    <tr>\n",
        "      <th>Cong Su</th>\n",
        "      <td> 27</td>\n",
        "    </tr>\n",
        "    <tr>\n",
        "      <th>Emir Salih Magden</th>\n",
        "      <td> 22</td>\n",
        "    </tr>\n",
        "    <tr>\n",
        "      <th>Agustina Gonzalez Cid</th>\n",
        "      <td> 11</td>\n",
        "    </tr>\n",
        "    <tr>\n",
        "      <th>Astera Tang</th>\n",
        "      <td>  5</td>\n",
        "    </tr>\n",
        "  </tbody>\n",
        "</table>\n",
        "<p>7 rows \u00d7 1 columns</p>\n",
        "</div>"
       ],
       "metadata": {},
       "output_type": "pyout",
       "prompt_number": 9,
       "text": [
        "                        0\n",
        "Sports Chair 1           \n",
        "Rajesh Sridhar         60\n",
        "Jenny Liu              36\n",
        "Devendra Shelar        31\n",
        "Cong Su                27\n",
        "Emir Salih Magden      22\n",
        "Agustina Gonzalez Cid  11\n",
        "Astera Tang             5\n",
        "\n",
        "[7 rows x 1 columns]"
       ]
      }
     ],
     "prompt_number": 9
    },
    {
     "cell_type": "code",
     "collapsed": false,
     "input": [
      "social1 = ballots.groupby('Social Chair 1')['Social Chair 1'].agg('count')\n",
      "social1"
     ],
     "language": "python",
     "metadata": {},
     "outputs": [
      {
       "metadata": {},
       "output_type": "pyout",
       "prompt_number": 10,
       "text": [
        "Social Chair 1\n",
        "Astera Tang             11\n",
        "Cong Su                 10\n",
        "Devendra Shelar          6\n",
        "Edwin Fonkwe Fongang     8\n",
        "Emir Salih Magden        4\n",
        "Himani Gupta             7\n",
        "Jenny Liu               19\n",
        "Parnika Agrawal         32\n",
        "Rajesh Sridhar           2\n",
        "dtype: int64"
       ]
      }
     ],
     "prompt_number": 10
    },
    {
     "cell_type": "code",
     "collapsed": false,
     "input": [
      "social2 = ballots.groupby('Social Chair 2')['Social Chair 2'].agg('count')\n",
      "social2"
     ],
     "language": "python",
     "metadata": {},
     "outputs": [
      {
       "metadata": {},
       "output_type": "pyout",
       "prompt_number": 11,
       "text": [
        "Social Chair 2\n",
        "Agustina Gonzalez Cid     2\n",
        "Andrew Rzeznik            1\n",
        "Astera Tang              10\n",
        "Cong Su                   6\n",
        "Devendra Shelar           5\n",
        "Edwin Fonkwe Fongang     12\n",
        "Emir Salih Magden         3\n",
        "Himani Gupta             18\n",
        "Jenny Liu                21\n",
        "Parnika Agrawal          17\n",
        "Rajesh Sridhar            2\n",
        "dtype: int64"
       ]
      }
     ],
     "prompt_number": 11
    },
    {
     "cell_type": "code",
     "collapsed": false,
     "input": [
      "social = pd.DataFrame(social1)\n",
      "social['social2'] = social2\n",
      "social.columns = ['social1', 'social2']\n",
      "social[0] = social['social1'] + social['social2']\n",
      "social.sort(0, ascending=False)"
     ],
     "language": "python",
     "metadata": {},
     "outputs": [
      {
       "html": [
        "<div style=\"max-height:1000px;max-width:1500px;overflow:auto;\">\n",
        "<table border=\"1\" class=\"dataframe\">\n",
        "  <thead>\n",
        "    <tr style=\"text-align: right;\">\n",
        "      <th></th>\n",
        "      <th>social1</th>\n",
        "      <th>social2</th>\n",
        "      <th>0</th>\n",
        "    </tr>\n",
        "    <tr>\n",
        "      <th>Social Chair 1</th>\n",
        "      <th></th>\n",
        "      <th></th>\n",
        "      <th></th>\n",
        "    </tr>\n",
        "  </thead>\n",
        "  <tbody>\n",
        "    <tr>\n",
        "      <th>Parnika Agrawal</th>\n",
        "      <td> 32</td>\n",
        "      <td> 17</td>\n",
        "      <td> 49</td>\n",
        "    </tr>\n",
        "    <tr>\n",
        "      <th>Jenny Liu</th>\n",
        "      <td> 19</td>\n",
        "      <td> 21</td>\n",
        "      <td> 40</td>\n",
        "    </tr>\n",
        "    <tr>\n",
        "      <th>Himani Gupta</th>\n",
        "      <td>  7</td>\n",
        "      <td> 18</td>\n",
        "      <td> 25</td>\n",
        "    </tr>\n",
        "    <tr>\n",
        "      <th>Astera Tang</th>\n",
        "      <td> 11</td>\n",
        "      <td> 10</td>\n",
        "      <td> 21</td>\n",
        "    </tr>\n",
        "    <tr>\n",
        "      <th>Edwin Fonkwe Fongang</th>\n",
        "      <td>  8</td>\n",
        "      <td> 12</td>\n",
        "      <td> 20</td>\n",
        "    </tr>\n",
        "    <tr>\n",
        "      <th>Cong Su</th>\n",
        "      <td> 10</td>\n",
        "      <td>  6</td>\n",
        "      <td> 16</td>\n",
        "    </tr>\n",
        "    <tr>\n",
        "      <th>Devendra Shelar</th>\n",
        "      <td>  6</td>\n",
        "      <td>  5</td>\n",
        "      <td> 11</td>\n",
        "    </tr>\n",
        "    <tr>\n",
        "      <th>Emir Salih Magden</th>\n",
        "      <td>  4</td>\n",
        "      <td>  3</td>\n",
        "      <td>  7</td>\n",
        "    </tr>\n",
        "    <tr>\n",
        "      <th>Rajesh Sridhar</th>\n",
        "      <td>  2</td>\n",
        "      <td>  2</td>\n",
        "      <td>  4</td>\n",
        "    </tr>\n",
        "  </tbody>\n",
        "</table>\n",
        "<p>9 rows \u00d7 3 columns</p>\n",
        "</div>"
       ],
       "metadata": {},
       "output_type": "pyout",
       "prompt_number": 12,
       "text": [
        "                      social1  social2   0\n",
        "Social Chair 1                            \n",
        "Parnika Agrawal            32       17  49\n",
        "Jenny Liu                  19       21  40\n",
        "Himani Gupta                7       18  25\n",
        "Astera Tang                11       10  21\n",
        "Edwin Fonkwe Fongang        8       12  20\n",
        "Cong Su                    10        6  16\n",
        "Devendra Shelar             6        5  11\n",
        "Emir Salih Magden           4        3   7\n",
        "Rajesh Sridhar              2        2   4\n",
        "\n",
        "[9 rows x 3 columns]"
       ]
      }
     ],
     "prompt_number": 12
    },
    {
     "cell_type": "code",
     "collapsed": false,
     "input": [
      "publicity = ballots.groupby('Publicity Chair')['Publicity Chair'].agg('count')\n",
      "publicity = pd.DataFrame(publicity)\n",
      "publicity.sort(0, ascending=False)"
     ],
     "language": "python",
     "metadata": {},
     "outputs": [
      {
       "html": [
        "<div style=\"max-height:1000px;max-width:1500px;overflow:auto;\">\n",
        "<table border=\"1\" class=\"dataframe\">\n",
        "  <thead>\n",
        "    <tr style=\"text-align: right;\">\n",
        "      <th></th>\n",
        "      <th>0</th>\n",
        "    </tr>\n",
        "    <tr>\n",
        "      <th>Publicity Chair</th>\n",
        "      <th></th>\n",
        "    </tr>\n",
        "  </thead>\n",
        "  <tbody>\n",
        "    <tr>\n",
        "      <th>Ranjitha Shivaram</th>\n",
        "      <td> 52</td>\n",
        "    </tr>\n",
        "    <tr>\n",
        "      <th>Cong Su</th>\n",
        "      <td> 22</td>\n",
        "    </tr>\n",
        "    <tr>\n",
        "      <th>Jenny Liu</th>\n",
        "      <td>  7</td>\n",
        "    </tr>\n",
        "    <tr>\n",
        "      <th>Agustina Gonzalez Cid</th>\n",
        "      <td>  7</td>\n",
        "    </tr>\n",
        "    <tr>\n",
        "      <th>Himani Gupta</th>\n",
        "      <td>  4</td>\n",
        "    </tr>\n",
        "    <tr>\n",
        "      <th>Parnika Agrawal</th>\n",
        "      <td>  3</td>\n",
        "    </tr>\n",
        "    <tr>\n",
        "      <th>Astera Tang</th>\n",
        "      <td>  2</td>\n",
        "    </tr>\n",
        "    <tr>\n",
        "      <th>Rajesh Sridhar</th>\n",
        "      <td>  1</td>\n",
        "    </tr>\n",
        "    <tr>\n",
        "      <th>Emir Salih Magden</th>\n",
        "      <td>  1</td>\n",
        "    </tr>\n",
        "  </tbody>\n",
        "</table>\n",
        "<p>9 rows \u00d7 1 columns</p>\n",
        "</div>"
       ],
       "metadata": {},
       "output_type": "pyout",
       "prompt_number": 13,
       "text": [
        "                        0\n",
        "Publicity Chair          \n",
        "Ranjitha Shivaram      52\n",
        "Cong Su                22\n",
        "Jenny Liu               7\n",
        "Agustina Gonzalez Cid   7\n",
        "Himani Gupta            4\n",
        "Parnika Agrawal         3\n",
        "Astera Tang             2\n",
        "Rajesh Sridhar          1\n",
        "Emir Salih Magden       1\n",
        "\n",
        "[9 rows x 1 columns]"
       ]
      }
     ],
     "prompt_number": 13
    },
    {
     "cell_type": "raw",
     "metadata": {},
     "source": [
      "Final Report\n",
      "------------\n",
      "\n",
      "Sports Chairs:\n",
      "- Rajesh Sridhar \n",
      "- Jenny Liu\n",
      "- Devendra Shelar (backup)\n",
      "\n",
      "Social Chairs:\n",
      "- Parnika Agrawal \n",
      "- Jenny Liu\n",
      "- Himani Gupta (backup)\n",
      "\n",
      "Publicity Chair:\n",
      "- Ranjitha Shivaram"
     ]
    },
    {
     "cell_type": "code",
     "collapsed": false,
     "input": [],
     "language": "python",
     "metadata": {},
     "outputs": []
    }
   ],
   "metadata": {}
  }
 ]
}